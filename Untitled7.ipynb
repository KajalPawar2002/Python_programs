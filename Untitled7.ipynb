{
  "nbformat": 4,
  "nbformat_minor": 0,
  "metadata": {
    "colab": {
      "provenance": [],
      "authorship_tag": "ABX9TyOp3yWWK7Hqwkokj3bkrYNW",
      "include_colab_link": true
    },
    "kernelspec": {
      "name": "python3",
      "display_name": "Python 3"
    },
    "language_info": {
      "name": "python"
    }
  },
  "cells": [
    {
      "cell_type": "markdown",
      "metadata": {
        "id": "view-in-github",
        "colab_type": "text"
      },
      "source": [
        "<a href=\"https://colab.research.google.com/github/KajalPawar2002/Python_programs/blob/main/Untitled7.ipynb\" target=\"_parent\"><img src=\"https://colab.research.google.com/assets/colab-badge.svg\" alt=\"Open In Colab\"/></a>"
      ]
    },
    {
      "cell_type": "code",
      "execution_count": 1,
      "metadata": {
        "colab": {
          "base_uri": "https://localhost:8080/"
        },
        "id": "LimHjozUuMxK",
        "outputId": "51b5fde3-f2a1-438e-9ae0-b8d6020f43ae"
      },
      "outputs": [
        {
          "output_type": "stream",
          "name": "stdout",
          "text": [
            "https://www.iana.org/domains/example\n"
          ]
        }
      ],
      "source": [
        "import requests\n",
        "from bs4 import BeautifulSoup\n",
        "\n",
        "# URL of the page you want to scrape\n",
        "url = 'https://example.com'\n",
        "\n",
        "# Send a GET request to fetch the raw HTML content\n",
        "response = requests.get(url)\n",
        "\n",
        "# Check if the request was successful\n",
        "if response.status_code == 200:\n",
        "    # Parse the HTML content with BeautifulSoup\n",
        "    soup = BeautifulSoup(response.text, 'html.parser')\n",
        "\n",
        "    # Example: Extract all the links (anchor tags)\n",
        "    links = soup.find_all('a')\n",
        "\n",
        "    # Print out the href attribute of each link\n",
        "    for link in links:\n",
        "        print(link.get('href'))\n",
        "else:\n",
        "    print(f\"Failed to retrieve the page. Status code: {response.status_code}\")\n"
      ]
    },
    {
      "cell_type": "code",
      "source": [
        "# Writing to a file\n",
        "with open('simple_example.txt', 'w') as file:\n",
        "    file.write(\"This is a simple file handling example.\\n\")\n",
        "    file.write(\"Python is awesome!\")\n",
        "\n",
        "# Reading from the file\n",
        "with open('simple_example.txt', 'r') as file:\n",
        "    content = file.read()  # Read all the content\n",
        "    print(content)\n"
      ],
      "metadata": {
        "colab": {
          "base_uri": "https://localhost:8080/"
        },
        "id": "x8wGFIZCvudz",
        "outputId": "a8e9278e-3369-43a6-e53e-c3b4a94ad49f"
      },
      "execution_count": 2,
      "outputs": [
        {
          "output_type": "stream",
          "name": "stdout",
          "text": [
            "This is a simple file handling example.\n",
            "Python is awesome!\n"
          ]
        }
      ]
    },
    {
      "cell_type": "code",
      "source": [],
      "metadata": {
        "id": "DSG9iqEuv0D-"
      },
      "execution_count": null,
      "outputs": []
    }
  ]
}